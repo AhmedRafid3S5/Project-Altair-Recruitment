{
 "cells": [
  {
   "cell_type": "code",
   "execution_count": 2,
   "metadata": {},
   "outputs": [
    {
     "name": "stdout",
     "output_type": "stream",
     "text": [
      "{'position': [0, 3], 'Direction': 'West'}\n"
     ]
    }
   ],
   "source": [
    "def process_instructions(instructions, grid_size):\n",
    "    #return telemetry\n",
    "    telemetry = {\n",
    "       \"position\" : [0,0],\n",
    "       \"Direction\" : \"North\"\n",
    "\n",
    "    }\n",
    "    #grid_size is a tuple\n",
    "    #instructions will be a string\n",
    "    #considering North is to the top\n",
    "    currentDir = 'N'\n",
    "    currentPos = [0,0] #[x,y]\n",
    "    \n",
    "    #To change direction\n",
    "    for i in instructions:\n",
    "        if currentDir== 'N' and i == 'R':\n",
    "            currentDir= 'E'\n",
    "\n",
    "        elif currentDir == 'N' and i == 'L':\n",
    "            currentDir= 'W'\n",
    "\n",
    "        elif currentDir == 'S' and i == 'R':\n",
    "            currentDir= 'W'\n",
    "\n",
    "        elif currentDir == 'S' and i == 'L':\n",
    "            currentDir= 'E'\n",
    "\n",
    "        elif currentDir == 'E' and i == 'R':\n",
    "            currentDir= 'S'\n",
    "\n",
    "        elif currentDir == 'E' and i == 'L':\n",
    "            currentDir= 'N'\n",
    "\n",
    "        elif currentDir == 'W' and i == 'R':\n",
    "            currentDir= 'N'\n",
    "\n",
    "        elif currentDir == 'W' and i == 'L':\n",
    "            currentDir= 'S'\n",
    "        \n",
    "        if currentDir == 'N' and i == 'F' and not(currentPos[1]+1>grid_size[1]-1):\n",
    "            currentPos[1] += 1\n",
    "        if currentDir == 'S' and i == 'F' and not(currentPos[1]-1<0):\n",
    "            currentPos[1] -= 1\n",
    "        if currentDir == 'W' and i == 'F' and not(currentPos[0]-1<0):\n",
    "            currentPos[0] -= 1\n",
    "        if currentDir == 'E' and i == 'F' and not(currentPos[0]+1>grid_size[1]-1):\n",
    "            currentPos[0] += 1\n",
    "        \n",
    "    if(currentDir == 'N'):\n",
    "        telemetry['Direction']=\"North\"\n",
    "    if(currentDir == 'S'):\n",
    "        telemetry['Direction']=\"South\"\n",
    "    if(currentDir == 'E'):\n",
    "        telemetry['Direction']=\"East\"\n",
    "    if(currentDir == 'W'):\n",
    "        telemetry['Direction']=\"West\"   \n",
    "    \n",
    "    telemetry['position'] = currentPos\n",
    "\n",
    "    return telemetry\n",
    "\n",
    "\n",
    "\n",
    "\n",
    "\n",
    "#function execution\n",
    "instructions = \"FFLFFRFL\"\n",
    "grid_size = (5,5)\n",
    "print(process_instructions(instructions,grid_size))\n"
   ]
  }
 ],
 "metadata": {
  "kernelspec": {
   "display_name": "Python 3",
   "language": "python",
   "name": "python3"
  },
  "language_info": {
   "codemirror_mode": {
    "name": "ipython",
    "version": 3
   },
   "file_extension": ".py",
   "mimetype": "text/x-python",
   "name": "python",
   "nbconvert_exporter": "python",
   "pygments_lexer": "ipython3",
   "version": "3.11.4"
  },
  "orig_nbformat": 4
 },
 "nbformat": 4,
 "nbformat_minor": 2
}
