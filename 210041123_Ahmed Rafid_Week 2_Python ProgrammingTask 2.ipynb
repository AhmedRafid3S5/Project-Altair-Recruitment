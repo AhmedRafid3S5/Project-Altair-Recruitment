{
 "cells": [
  {
   "cell_type": "code",
   "execution_count": 10,
   "metadata": {},
   "outputs": [
    {
     "name": "stdout",
     "output_type": "stream",
     "text": [
      "Min GrayScale pixel value of image: 0\n",
      "Max GrayScale pixel value of image: 255\n",
      "--------------------------------------------\n",
      "Average Pixel Value:  68.68504918981482\n",
      "--------------------------------------------\n",
      "Total non-zero pixels:  345371\n",
      "--------------------------------------------\n",
      "Total zero pixels:  229\n"
     ]
    },
    {
     "data": {
      "text/plain": [
       "-1"
      ]
     },
     "execution_count": 10,
     "metadata": {},
     "output_type": "execute_result"
    }
   ],
   "source": [
    "\n",
    "import cv2 as cv\n",
    "import numpy as np\n",
    "\n",
    "\n",
    "#Part 1----------------------------------------------------------------------------\n",
    "def detect_red_and_white_regions(img):\n",
    "    #Detect red and white regions in the given image using color detection with OpenCV.\n",
    "    #conversion of bgr to hsv color space\n",
    "    img_hsv = cv.cvtColor(img,cv.COLOR_BGR2HSV)\n",
    "    \n",
    "    #defining red and white hsv upper and lower bound\n",
    "    lower_red = np.array([160, 150, 50])\n",
    "    upper_red = np.array([180, 255, 255])\n",
    "    \n",
    "    lower_white = np.array([0, 0, 200])\n",
    "    upper_white = np.array([255, 50, 255])\n",
    "    \n",
    "    #create red and white mask\n",
    "    red_mask = cv.inRange(img_hsv,lower_red,upper_red)\n",
    "    white_mask = cv.inRange(img_hsv,lower_white,upper_white)\n",
    "    \n",
    "    #show only red and white regions\n",
    "    show_red_region = cv.bitwise_and(img,img,mask = red_mask)\n",
    "    show_white_region = cv.bitwise_and(img,img,mask = white_mask)\n",
    "    #combining the 2 masks\n",
    "    combined_result = cv.bitwise_or(show_red_region,show_white_region)\n",
    "    \n",
    "    #display combined red and white regions\n",
    "    cv.imshow(\"Red and white regions\",combined_result)\n",
    "    #show separate\n",
    "    #cv.imshow(\"Red Only\",show_red_region)\n",
    "    #cv.imshow(\"White Only\",show_white_region)\n",
    "\n",
    "\n",
    "#Part 2--------------------------------------------------------------------------------\n",
    "def analyze_goat(img):\n",
    "    #Finding min and max values in grayscale color space\n",
    "    min_gray_value = np.min(img)\n",
    "    max_gray_value = np.max(img)\n",
    "    print(\"Min GrayScale pixel value of image:\",min_gray_value)\n",
    "    print(\"Max GrayScale pixel value of image:\", max_gray_value)\n",
    "    print(\"--------------------------------------------\")\n",
    "    \n",
    "    #---------------------------------END of Part 2-------------------------------------------\n",
    "\n",
    "    #Part 3-----------------------------------------------------------------------------------\n",
    "    avg_pixel_value = np.mean(img)\n",
    "    print(\"Average Pixel Value: \",avg_pixel_value)\n",
    "    print(\"--------------------------------------------\")\n",
    "    \n",
    "    #---------------------------------END of Part 3-------------------------------------------\n",
    "    \n",
    "    #Part 4 & 5-----------------------------------------------------------------------------------\n",
    "    total_non_zero = np.count_nonzero(img)\n",
    "    total_zero = img.size - total_non_zero\n",
    "    print(\"Total non-zero pixels: \",total_non_zero)\n",
    "    print(\"--------------------------------------------\")\n",
    "    print(\"Total zero pixels: \",total_zero)\n",
    "    #---------------------------------END of Part 4 & 5-------------------------------------------\n",
    "\n",
    "#Running the Functions \n",
    "img = cv.imread('Photos/GOAT.jpg') #this is a matrix of pixels\n",
    "cv.imshow('GOAT_Original',img) #///@params window name, image matrix to show\n",
    "detect_red_and_white_regions(img)\n",
    "\n",
    "img2 = cv.cvtColor(img,cv.COLOR_BGR2GRAY)\n",
    "analyze_goat(img2)\n",
    "\n",
    "\n",
    "\n",
    "\n",
    "cv.waitKey(0)"
   ]
  }
 ],
 "metadata": {
  "kernelspec": {
   "display_name": "Python 3",
   "language": "python",
   "name": "python3"
  },
  "language_info": {
   "codemirror_mode": {
    "name": "ipython",
    "version": 3
   },
   "file_extension": ".py",
   "mimetype": "text/x-python",
   "name": "python",
   "nbconvert_exporter": "python",
   "pygments_lexer": "ipython3",
   "version": "3.11.4"
  },
  "orig_nbformat": 4
 },
 "nbformat": 4,
 "nbformat_minor": 2
}
