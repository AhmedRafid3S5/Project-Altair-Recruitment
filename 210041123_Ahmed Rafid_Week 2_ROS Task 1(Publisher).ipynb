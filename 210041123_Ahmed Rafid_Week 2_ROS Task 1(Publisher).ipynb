{
 "cells": [
  {
   "cell_type": "code",
   "execution_count": null,
   "metadata": {},
   "outputs": [],
   "source": [
    "\n",
    "#!/usr/bin/env python3\n",
    "#a custom talker node that publishes to chatter Topic\n",
    "import rospy\n",
    "from std_msgs.msg import String\n",
    "\n",
    "if __name__ == '__main__' :\n",
    "    rospy.init_node(\"Custom_Message_Node\")\n",
    "    \n",
    "    rospy.loginfo(\"Custom message publisher node has started\")\n",
    "\n",
    "    pub = rospy.Publisher('chatter',String,queue_size=10)\n",
    "\n",
    "    rate = rospy.Rate(10)\n",
    "    i = 0\n",
    "    while not rospy.is_shutdown():\n",
    "        \n",
    "        myString = \"Hello ROS \" + str(2*i)\n",
    "        i+=1\n",
    "        myMessage = String()\n",
    "        myMessage.data = myString\n",
    "        pub.publish(myMessage)\n",
    "        rospy.loginfo(myMessage)\n",
    "        rate.sleep()"
   ]
  }
 ],
 "metadata": {
  "kernelspec": {
   "display_name": "Python 3",
   "language": "python",
   "name": "python3"
  },
  "language_info": {
   "name": "python",
   "version": "3.11.4"
  },
  "orig_nbformat": 4
 },
 "nbformat": 4,
 "nbformat_minor": 2
}
