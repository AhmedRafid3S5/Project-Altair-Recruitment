{
 "cells": [
  {
   "cell_type": "code",
   "execution_count": null,
   "metadata": {},
   "outputs": [],
   "source": [
    "#!/usr/bin/env python3\n",
    "#a custom listener node that subscribes to the Chatter Topic\n",
    "import rospy\n",
    "from std_msgs.msg import String\n",
    "\n",
    "def message_subscriber(msg:String):\n",
    "    rospy.loginfo(\"Received Message: \" + msg.data)\n",
    "\n",
    "\n",
    "if __name__ == '__main__':\n",
    "    rospy.init_node(\"Message_listener_subscriber\")\n",
    "    rospy.loginfo(\"Subscriber node started\")\n",
    "\n",
    "    sub = rospy.Subscriber('chatter',String, callback = message_subscriber)\n",
    "\n",
    "    rospy.spin()"
   ]
  }
 ],
 "metadata": {
  "kernelspec": {
   "display_name": "Python 3",
   "language": "python",
   "name": "python3"
  },
  "language_info": {
   "name": "python",
   "version": "3.11.4"
  },
  "orig_nbformat": 4
 },
 "nbformat": 4,
 "nbformat_minor": 2
}
