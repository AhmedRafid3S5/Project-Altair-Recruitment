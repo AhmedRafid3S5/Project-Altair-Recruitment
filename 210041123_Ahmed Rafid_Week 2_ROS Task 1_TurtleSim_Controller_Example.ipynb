{
 "cells": [
  {
   "cell_type": "code",
   "execution_count": null,
   "metadata": {},
   "outputs": [],
   "source": [
    "#!/usr/bin/env python3\n",
    "import rospy\n",
    "from geometry_msgs.msg import Twist # from this folder, import that library \n",
    "\n",
    "if __name__ == '__main__' :\n",
    "    rospy.init_node(\"draw_circle\")\n",
    "    rospy.loginfo(\"Node has been started\")\n",
    "\n",
    "    pub = rospy.Publisher(\"/turtle1/cmd_vel\", Twist, queue_size=10) #queue size is a buffer\n",
    "\n",
    "    rate = rospy.Rate(2)\n",
    "\n",
    "    while not rospy.is_shutdown():\n",
    "        msg = Twist()\n",
    "        msg.linear.x = 2.0\n",
    "        msg.angular.z = 1.0\n",
    "        pub.publish(msg)\n",
    "        rate.sleep()  # to keep loop sending at 2Hz\n"
   ]
  }
 ],
 "metadata": {
  "language_info": {
   "name": "python"
  },
  "orig_nbformat": 4
 },
 "nbformat": 4,
 "nbformat_minor": 2
}
